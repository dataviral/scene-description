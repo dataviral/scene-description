{
 "cells": [
  {
   "cell_type": "code",
   "execution_count": 3,
   "metadata": {},
   "outputs": [],
   "source": [
    "import sys\n",
    "from importlib import reload\n",
    "import torch\n",
    "\n",
    "sys.path.append(\"..\")\n",
    "\n",
    "from scene_description import model"
   ]
  },
  {
   "cell_type": "markdown",
   "metadata": {},
   "source": [
    "## Lang Input"
   ]
  },
  {
   "cell_type": "code",
   "execution_count": 4,
   "metadata": {},
   "outputs": [],
   "source": [
    "reload(model)\n",
    "lang_input = model.LanguageInput()"
   ]
  },
  {
   "cell_type": "code",
   "execution_count": 5,
   "metadata": {},
   "outputs": [
    {
     "data": {
      "text/plain": [
       "torch.Size([2, 768])"
      ]
     },
     "execution_count": 5,
     "metadata": {},
     "output_type": "execute_result"
    }
   ],
   "source": [
    "l = lang_input([\"Hello\", \"It is Me\"])\n",
    "l.shape"
   ]
  },
  {
   "cell_type": "markdown",
   "metadata": {},
   "source": [
    "## Vision Input"
   ]
  },
  {
   "cell_type": "code",
   "execution_count": 6,
   "metadata": {},
   "outputs": [],
   "source": [
    "reload(model)\n",
    "vision_input = model.VisionInput()"
   ]
  },
  {
   "cell_type": "code",
   "execution_count": 7,
   "metadata": {},
   "outputs": [
    {
     "data": {
      "text/plain": [
       "torch.Size([2, 512])"
      ]
     },
     "execution_count": 7,
     "metadata": {},
     "output_type": "execute_result"
    }
   ],
   "source": [
    "v = vision_input(torch.rand((2, 3, 224, 224)))\n",
    "v.shape"
   ]
  },
  {
   "cell_type": "markdown",
   "metadata": {},
   "source": [
    "## Classification"
   ]
  },
  {
   "cell_type": "code",
   "execution_count": 20,
   "metadata": {},
   "outputs": [],
   "source": [
    "reload(model)\n",
    "classification = model.Classification(num_answers=20)"
   ]
  },
  {
   "cell_type": "code",
   "execution_count": 24,
   "metadata": {},
   "outputs": [
    {
     "name": "stdout",
     "output_type": "stream",
     "text": [
      "torch.Size([2, 1280])\n"
     ]
    },
    {
     "data": {
      "text/plain": [
       "[torch.Size([2, 20]), torch.Size([2, 512])]"
      ]
     },
     "execution_count": 24,
     "metadata": {},
     "output_type": "execute_result"
    }
   ],
   "source": [
    "lv = torch.cat([l, v], dim=-1)\n",
    "print(lv.shape)\n",
    "c, lv = classification(lv)\n",
    "[i.shape for i in [c, lv]]"
   ]
  },
  {
   "cell_type": "markdown",
   "metadata": {},
   "source": [
    "## Langauge Generation"
   ]
  },
  {
   "cell_type": "code",
   "execution_count": 25,
   "metadata": {},
   "outputs": [],
   "source": [
    "reload(model)\n",
    "lang_gen = model.LanguageGeneration(vocab_size=1000)"
   ]
  },
  {
   "cell_type": "code",
   "execution_count": 26,
   "metadata": {
    "scrolled": true
   },
   "outputs": [
    {
     "name": "stdout",
     "output_type": "stream",
     "text": [
      "torch.Size([2, 1, 128])\n",
      "torch.Size([2, 1, 512])\n",
      "torch.Size([2, 1, 512])\n",
      "----\n",
      "torch.Size([2, 1, 128])\n",
      "torch.Size([2, 1, 512])\n",
      "torch.Size([2, 1, 512])\n",
      "----\n",
      "torch.Size([2, 1, 128])\n",
      "torch.Size([2, 1, 512])\n",
      "torch.Size([2, 1, 512])\n",
      "----\n",
      "torch.Size([2, 1, 128])\n",
      "torch.Size([2, 1, 512])\n",
      "torch.Size([2, 1, 512])\n",
      "----\n",
      "torch.Size([2, 1, 128])\n",
      "torch.Size([2, 1, 512])\n",
      "torch.Size([2, 1, 512])\n",
      "----\n",
      "torch.Size([2, 1, 128])\n",
      "torch.Size([2, 1, 512])\n",
      "torch.Size([2, 1, 512])\n",
      "----\n",
      "torch.Size([2, 1, 128])\n",
      "torch.Size([2, 1, 512])\n",
      "torch.Size([2, 1, 512])\n",
      "----\n",
      "torch.Size([2, 1, 128])\n",
      "torch.Size([2, 1, 512])\n",
      "torch.Size([2, 1, 512])\n",
      "----\n",
      "torch.Size([2, 1, 128])\n",
      "torch.Size([2, 1, 512])\n",
      "torch.Size([2, 1, 512])\n",
      "----\n",
      "torch.Size([2, 1, 128])\n",
      "torch.Size([2, 1, 512])\n",
      "torch.Size([2, 1, 512])\n",
      "----\n",
      "torch.Size([2, 1, 128])\n",
      "torch.Size([2, 1, 512])\n",
      "torch.Size([2, 1, 512])\n",
      "----\n",
      "torch.Size([2, 1, 128])\n",
      "torch.Size([2, 1, 512])\n",
      "torch.Size([2, 1, 512])\n",
      "----\n",
      "torch.Size([2, 1, 128])\n",
      "torch.Size([2, 1, 512])\n",
      "torch.Size([2, 1, 512])\n",
      "----\n",
      "torch.Size([2, 1, 128])\n",
      "torch.Size([2, 1, 512])\n",
      "torch.Size([2, 1, 512])\n",
      "----\n",
      "torch.Size([2, 1, 128])\n",
      "torch.Size([2, 1, 512])\n",
      "torch.Size([2, 1, 512])\n",
      "----\n",
      "torch.Size([2, 1, 128])\n",
      "torch.Size([2, 1, 512])\n",
      "torch.Size([2, 1, 512])\n",
      "----\n",
      "torch.Size([2, 1, 128])\n",
      "torch.Size([2, 1, 512])\n",
      "torch.Size([2, 1, 512])\n",
      "----\n",
      "torch.Size([2, 1, 128])\n",
      "torch.Size([2, 1, 512])\n",
      "torch.Size([2, 1, 512])\n",
      "----\n",
      "torch.Size([2, 1, 128])\n",
      "torch.Size([2, 1, 512])\n",
      "torch.Size([2, 1, 512])\n",
      "----\n",
      "torch.Size([2, 1, 128])\n",
      "torch.Size([2, 1, 512])\n",
      "torch.Size([2, 1, 512])\n",
      "----\n",
      "torch.Size([2, 1, 128])\n",
      "torch.Size([2, 1, 512])\n",
      "torch.Size([2, 1, 512])\n",
      "----\n",
      "torch.Size([2, 1, 128])\n",
      "torch.Size([2, 1, 512])\n",
      "torch.Size([2, 1, 512])\n",
      "----\n",
      "torch.Size([2, 1, 128])\n",
      "torch.Size([2, 1, 512])\n",
      "torch.Size([2, 1, 512])\n",
      "----\n",
      "torch.Size([2, 1, 128])\n",
      "torch.Size([2, 1, 512])\n",
      "torch.Size([2, 1, 512])\n",
      "----\n",
      "torch.Size([2, 1, 128])\n",
      "torch.Size([2, 1, 512])\n",
      "torch.Size([2, 1, 512])\n",
      "----\n",
      "torch.Size([2, 1, 128])\n",
      "torch.Size([2, 1, 512])\n",
      "torch.Size([2, 1, 512])\n",
      "----\n",
      "torch.Size([2, 1, 128])\n",
      "torch.Size([2, 1, 512])\n",
      "torch.Size([2, 1, 512])\n",
      "----\n",
      "torch.Size([2, 1, 128])\n",
      "torch.Size([2, 1, 512])\n",
      "torch.Size([2, 1, 512])\n",
      "----\n",
      "torch.Size([2, 1, 128])\n",
      "torch.Size([2, 1, 512])\n",
      "torch.Size([2, 1, 512])\n",
      "----\n",
      "torch.Size([2, 1, 128])\n",
      "torch.Size([2, 1, 512])\n",
      "torch.Size([2, 1, 512])\n",
      "----\n"
     ]
    },
    {
     "data": {
      "text/plain": [
       "torch.Size([2, 30, 1000])"
      ]
     },
     "execution_count": 26,
     "metadata": {},
     "output_type": "execute_result"
    }
   ],
   "source": [
    "lg = lang_gen(lv)\n",
    "lg.shape"
   ]
  },
  {
   "cell_type": "markdown",
   "metadata": {},
   "source": [
    "## Scene Description"
   ]
  },
  {
   "cell_type": "code",
   "execution_count": 27,
   "metadata": {},
   "outputs": [],
   "source": [
    "reload(model)\n",
    "sd = model.SceneDescription(num_answers=20, vocab_size=1000)"
   ]
  },
  {
   "cell_type": "code",
   "execution_count": 28,
   "metadata": {},
   "outputs": [
    {
     "name": "stdout",
     "output_type": "stream",
     "text": [
      "torch.Size([2, 1, 128])\n",
      "torch.Size([2, 1, 512])\n",
      "torch.Size([2, 1, 512])\n",
      "----\n",
      "torch.Size([2, 1, 128])\n",
      "torch.Size([2, 1, 512])\n",
      "torch.Size([2, 1, 512])\n",
      "----\n",
      "torch.Size([2, 1, 128])\n",
      "torch.Size([2, 1, 512])\n",
      "torch.Size([2, 1, 512])\n",
      "----\n",
      "torch.Size([2, 1, 128])\n",
      "torch.Size([2, 1, 512])\n",
      "torch.Size([2, 1, 512])\n",
      "----\n",
      "torch.Size([2, 1, 128])\n",
      "torch.Size([2, 1, 512])\n",
      "torch.Size([2, 1, 512])\n",
      "----\n",
      "torch.Size([2, 1, 128])\n",
      "torch.Size([2, 1, 512])\n",
      "torch.Size([2, 1, 512])\n",
      "----\n",
      "torch.Size([2, 1, 128])\n",
      "torch.Size([2, 1, 512])\n",
      "torch.Size([2, 1, 512])\n",
      "----\n",
      "torch.Size([2, 1, 128])\n",
      "torch.Size([2, 1, 512])\n",
      "torch.Size([2, 1, 512])\n",
      "----\n",
      "torch.Size([2, 1, 128])\n",
      "torch.Size([2, 1, 512])\n",
      "torch.Size([2, 1, 512])\n",
      "----\n",
      "torch.Size([2, 1, 128])\n",
      "torch.Size([2, 1, 512])\n",
      "torch.Size([2, 1, 512])\n",
      "----\n",
      "torch.Size([2, 1, 128])\n",
      "torch.Size([2, 1, 512])\n",
      "torch.Size([2, 1, 512])\n",
      "----\n",
      "torch.Size([2, 1, 128])\n",
      "torch.Size([2, 1, 512])\n",
      "torch.Size([2, 1, 512])\n",
      "----\n",
      "torch.Size([2, 1, 128])\n",
      "torch.Size([2, 1, 512])\n",
      "torch.Size([2, 1, 512])\n",
      "----\n",
      "torch.Size([2, 1, 128])\n",
      "torch.Size([2, 1, 512])\n",
      "torch.Size([2, 1, 512])\n",
      "----\n",
      "torch.Size([2, 1, 128])\n",
      "torch.Size([2, 1, 512])\n",
      "torch.Size([2, 1, 512])\n",
      "----\n",
      "torch.Size([2, 1, 128])\n",
      "torch.Size([2, 1, 512])\n",
      "torch.Size([2, 1, 512])\n",
      "----\n",
      "torch.Size([2, 1, 128])\n",
      "torch.Size([2, 1, 512])\n",
      "torch.Size([2, 1, 512])\n",
      "----\n",
      "torch.Size([2, 1, 128])\n",
      "torch.Size([2, 1, 512])\n",
      "torch.Size([2, 1, 512])\n",
      "----\n",
      "torch.Size([2, 1, 128])\n",
      "torch.Size([2, 1, 512])\n",
      "torch.Size([2, 1, 512])\n",
      "----\n",
      "torch.Size([2, 1, 128])\n",
      "torch.Size([2, 1, 512])\n",
      "torch.Size([2, 1, 512])\n",
      "----\n",
      "torch.Size([2, 1, 128])\n",
      "torch.Size([2, 1, 512])\n",
      "torch.Size([2, 1, 512])\n",
      "----\n",
      "torch.Size([2, 1, 128])\n",
      "torch.Size([2, 1, 512])\n",
      "torch.Size([2, 1, 512])\n",
      "----\n",
      "torch.Size([2, 1, 128])\n",
      "torch.Size([2, 1, 512])\n",
      "torch.Size([2, 1, 512])\n",
      "----\n",
      "torch.Size([2, 1, 128])\n",
      "torch.Size([2, 1, 512])\n",
      "torch.Size([2, 1, 512])\n",
      "----\n",
      "torch.Size([2, 1, 128])\n",
      "torch.Size([2, 1, 512])\n",
      "torch.Size([2, 1, 512])\n",
      "----\n",
      "torch.Size([2, 1, 128])\n",
      "torch.Size([2, 1, 512])\n",
      "torch.Size([2, 1, 512])\n",
      "----\n",
      "torch.Size([2, 1, 128])\n",
      "torch.Size([2, 1, 512])\n",
      "torch.Size([2, 1, 512])\n",
      "----\n",
      "torch.Size([2, 1, 128])\n",
      "torch.Size([2, 1, 512])\n",
      "torch.Size([2, 1, 512])\n",
      "----\n",
      "torch.Size([2, 1, 128])\n",
      "torch.Size([2, 1, 512])\n",
      "torch.Size([2, 1, 512])\n",
      "----\n",
      "torch.Size([2, 1, 128])\n",
      "torch.Size([2, 1, 512])\n",
      "torch.Size([2, 1, 512])\n",
      "----\n"
     ]
    }
   ],
   "source": [
    "co, go = sd([\"Hello\", \"It is Me\"] , torch.rand((2, 3, 224, 224)))"
   ]
  },
  {
   "cell_type": "code",
   "execution_count": 29,
   "metadata": {},
   "outputs": [
    {
     "data": {
      "text/plain": [
       "torch.Size([2, 20])"
      ]
     },
     "execution_count": 29,
     "metadata": {},
     "output_type": "execute_result"
    }
   ],
   "source": [
    "co.shape"
   ]
  },
  {
   "cell_type": "code",
   "execution_count": 30,
   "metadata": {},
   "outputs": [
    {
     "data": {
      "text/plain": [
       "torch.Size([2, 30, 1000])"
      ]
     },
     "execution_count": 30,
     "metadata": {},
     "output_type": "execute_result"
    }
   ],
   "source": [
    "go.shape"
   ]
  },
  {
   "cell_type": "code",
   "execution_count": null,
   "metadata": {},
   "outputs": [],
   "source": []
  }
 ],
 "metadata": {
  "kernelspec": {
   "display_name": "Python 3",
   "language": "python",
   "name": "python3"
  },
  "language_info": {
   "codemirror_mode": {
    "name": "ipython",
    "version": 3
   },
   "file_extension": ".py",
   "mimetype": "text/x-python",
   "name": "python",
   "nbconvert_exporter": "python",
   "pygments_lexer": "ipython3",
   "version": "3.8.5"
  }
 },
 "nbformat": 4,
 "nbformat_minor": 4
}
