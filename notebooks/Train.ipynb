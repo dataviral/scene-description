{
 "cells": [
  {
   "cell_type": "code",
   "execution_count": 1,
   "metadata": {},
   "outputs": [],
   "source": [
    "import sys\n",
    "from importlib import reload\n",
    "sys.path.append(\"..\")\n",
    "\n",
    "from scene_description import model, data_utils, global_vars"
   ]
  },
  {
   "cell_type": "code",
   "execution_count": 2,
   "metadata": {},
   "outputs": [],
   "source": [
    "import torch\n",
    "import torch.nn as nn\n",
    "from torch.optim import Adam\n",
    "\n",
    "import json\n",
    "from tqdm import tqdm"
   ]
  },
  {
   "cell_type": "code",
   "execution_count": 3,
   "metadata": {},
   "outputs": [],
   "source": [
    "mappings_path = \"../../qa_data/mappings.json\"\n",
    "processed_data_path = \"../../qa_data/processed_data.json\"\n",
    "map_images_path = \"../../qa_data/\""
   ]
  },
  {
   "cell_type": "code",
   "execution_count": 4,
   "metadata": {},
   "outputs": [],
   "source": [
    "mappings = json.load(open(mappings_path))\n",
    "qa_data = json.load(open(processed_data_path))[\"data\"]"
   ]
  },
  {
   "cell_type": "code",
   "execution_count": 6,
   "metadata": {},
   "outputs": [],
   "source": [
    "sd_dataset = data_utils.SceneDescriptionDataset(qa_data, mappings, map_images_path)"
   ]
  },
  {
   "cell_type": "code",
   "execution_count": 13,
   "metadata": {},
   "outputs": [],
   "source": [
    "sd_dataloader = torch.utils.data.DataLoader(\n",
    "    sd_dataset,\n",
    "    batch_size=64,\n",
    "    shuffle=True,\n",
    "    collate_fn=data_utils.collate_fn,\n",
    "    num_workers=4\n",
    ")"
   ]
  },
  {
   "cell_type": "code",
   "execution_count": 8,
   "metadata": {},
   "outputs": [],
   "source": [
    "sd_model = model.SceneDescription(num_answers=len(mappings[\"aid_2_answer_vqa\"]),\n",
    "                                              vocab_size=len(mappings[\"vocab\"][\"wid_2_word\"]))"
   ]
  },
  {
   "cell_type": "code",
   "execution_count": 9,
   "metadata": {},
   "outputs": [],
   "source": [
    "device=\"cuda\"\n",
    "sd_model = sd_model.to(device)\n",
    "num_epochs = 10\n",
    "optimizer = Adam(sd_model.parameters(), lr=3e-4)"
   ]
  },
  {
   "cell_type": "code",
   "execution_count": 14,
   "metadata": {},
   "outputs": [],
   "source": [
    "def train(model, dataloader, optimizer, epochs):\n",
    "    lossfn_vqa = nn.CrossEntropyLoss()\n",
    "    lossfn_des = nn.CrossEntropyLoss(ignore_index=global_vars.PAD_IDX)\n",
    "    \n",
    "    for e in range(epochs):\n",
    "        train_loop = tqdm(dataloader, total=len(dataloader), position=0, leave=False)\n",
    "        \n",
    "        loss_vqa = 0.\n",
    "        loss_des = 0.\n",
    "        loss_total = 0.\n",
    "        for batch_num, ((questions, imgs), (answers, answers_vqa)) in enumerate(train_loop):\n",
    "            \n",
    "            answers=answers.long().to(device)\n",
    "            answers_vqa=answers_vqa.long().to(device)\n",
    "            imgs = imgs.to(device)\n",
    "            \n",
    "            optimizer.zero_grad() # clear gradients from previous minibatch\n",
    "            \n",
    "            op_vqa, op_des = model(questions, imgs, answers, device=device)\n",
    "            \n",
    "            batch_loss_vqa = lossfn_vqa(op_vqa, answers_vqa)\n",
    "            batch_loss_des = lossfn_des(op_des[:, :-1, :].permute(0, 2, 1), answers[:, 1:])\n",
    "            \n",
    "            total_loss = batch_loss_des + batch_loss_vqa\n",
    "            total_loss.backward()\n",
    "            \n",
    "            loss_vqa += batch_loss_vqa.item()\n",
    "            loss_des += batch_loss_des.item()\n",
    "            loss_total += total_loss.item()\n",
    "            \n",
    "            optimizer.step()\n",
    "            \n",
    "            train_loop.set_description(\"Epoch={}\".format(e+1))\n",
    "            train_loop.set_postfix(vqa_loss=batch_loss_vqa.item(), des_loss=batch_loss_des.item(), total_loss=total_loss.item())\n",
    "        \n",
    "        print(\"Epoch={} vqa_loss={} des_loss={} total_loss={}\".format(loss_vqa/len(dataloader),\n",
    "                                                                    loss_des/len(dataloader),\n",
    "                                                                    loss_total/len(dataloader)))"
   ]
  },
  {
   "cell_type": "code",
   "execution_count": null,
   "metadata": {},
   "outputs": [
    {
     "name": "stderr",
     "output_type": "stream",
     "text": [
      "Epoch=1:  12%|█▏        | 359/2990 [03:40<27:58,  1.57it/s, des_loss=1.01, total_loss=1.47, vqa_loss=0.46]  "
     ]
    }
   ],
   "source": [
    "train(sd_model, sd_dataloader, optimizer, epochs=10)"
   ]
  },
  {
   "cell_type": "code",
   "execution_count": null,
   "metadata": {},
   "outputs": [],
   "source": []
  }
 ],
 "metadata": {
  "kernelspec": {
   "display_name": "Python 3",
   "language": "python",
   "name": "python3"
  },
  "language_info": {
   "codemirror_mode": {
    "name": "ipython",
    "version": 3
   },
   "file_extension": ".py",
   "mimetype": "text/x-python",
   "name": "python",
   "nbconvert_exporter": "python",
   "pygments_lexer": "ipython3",
   "version": "3.8.5"
  }
 },
 "nbformat": 4,
 "nbformat_minor": 4
}
