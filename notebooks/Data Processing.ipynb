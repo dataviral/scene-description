{
 "cells": [
  {
   "cell_type": "code",
   "execution_count": 1,
   "metadata": {},
   "outputs": [],
   "source": [
    "import json"
   ]
  },
  {
   "cell_type": "code",
   "execution_count": 3,
   "metadata": {},
   "outputs": [],
   "source": [
    "argon_data = json.load(open(\"../../qa_data/qa/qa_argon.json\"))\n",
    "neon_data = json.load(open(\"../../qa_data/qa/qa_neon.json\"))\n",
    "ozone_data = json.load(open(\"../../qa_data/qa/qa_ozone.json\"))\n",
    "xenon_data = json.load(open(\"../../qa_data/qa/qa_xenon.json\"))\n",
    "sparky_data = json.load(open(\"../../qa_data/qa/qa_sparky.json\"))"
   ]
  },
  {
   "cell_type": "code",
   "execution_count": 5,
   "metadata": {},
   "outputs": [
    {
     "name": "stdout",
     "output_type": "stream",
     "text": [
      "dict_keys(['aid_2_answer', 'aid_2_answer_vqa', 'qa_data', 'qid_2_question'])\n",
      "dict_keys(['aid_2_answer', 'aid_2_answer_vqa', 'qa_data', 'qid_2_question'])\n",
      "dict_keys(['aid_2_answer', 'aid_2_answer_vqa', 'qa_data', 'qid_2_question'])\n",
      "dict_keys(['aid_2_answer', 'aid_2_answer_vqa', 'qa_data', 'qid_2_question'])\n",
      "dict_keys(['aid_2_answer', 'aid_2_answer_vqa', 'qa_data', 'qid_2_question'])\n"
     ]
    }
   ],
   "source": [
    "print(argon_data.keys())\n",
    "print(neon_data.keys())\n",
    "print(ozone_data.keys())\n",
    "print(xenon_data.keys())\n",
    "print(sparky_data.keys())"
   ]
  },
  {
   "cell_type": "code",
   "execution_count": 6,
   "metadata": {},
   "outputs": [],
   "source": [
    "data = []"
   ]
  },
  {
   "cell_type": "code",
   "execution_count": 7,
   "metadata": {},
   "outputs": [],
   "source": [
    "# Argon\n",
    "for im_no in argon_data[\"qa_data\"]:\n",
    "    for qid, aid, aid_vqa in zip(\n",
    "        argon_data[\"qa_data\"][im_no][\"questions\"],\n",
    "        argon_data[\"qa_data\"][im_no][\"answers\"],\n",
    "        argon_data[\"qa_data\"][im_no][\"answers_vqa\"]\n",
    "    ):\n",
    "        qid, aid, aid_vqa = str(qid), str(aid), str(aid_vqa)\n",
    "        data.append([\n",
    "            argon_data[\"qid_2_question\"][qid],\n",
    "            argon_data[\"aid_2_answer\"][aid],\n",
    "            argon_data[\"aid_2_answer_vqa\"][aid_vqa],\n",
    "            im_no,\n",
    "            \"argon\"\n",
    "        ])\n",
    "# neon\n",
    "for im_no in neon_data[\"qa_data\"]:\n",
    "    for qid, aid, aid_vqa in zip(\n",
    "        neon_data[\"qa_data\"][im_no][\"questions\"],\n",
    "        neon_data[\"qa_data\"][im_no][\"answers\"],\n",
    "        neon_data[\"qa_data\"][im_no][\"answers_vqa\"]\n",
    "    ):\n",
    "        qid, aid, aid_vqa = str(qid), str(aid), str(aid_vqa)\n",
    "        data.append([\n",
    "            neon_data[\"qid_2_question\"][qid],\n",
    "            neon_data[\"aid_2_answer\"][aid],\n",
    "            neon_data[\"aid_2_answer_vqa\"][aid_vqa],\n",
    "            im_no,\n",
    "            \"neon\"\n",
    "        ])\n",
    "\n",
    "# ozone\n",
    "for im_no in ozone_data[\"qa_data\"]:\n",
    "    for qid, aid, aid_vqa in zip(\n",
    "        ozone_data[\"qa_data\"][im_no][\"questions\"],\n",
    "        ozone_data[\"qa_data\"][im_no][\"answers\"],\n",
    "        ozone_data[\"qa_data\"][im_no][\"answers_vqa\"]\n",
    "    ):\n",
    "        qid, aid, aid_vqa = str(qid), str(aid), str(aid_vqa)\n",
    "        data.append([\n",
    "            ozone_data[\"qid_2_question\"][qid],\n",
    "            ozone_data[\"aid_2_answer\"][aid],\n",
    "            ozone_data[\"aid_2_answer_vqa\"][aid_vqa],\n",
    "            im_no,\n",
    "            \"ozone\"\n",
    "        ])\n",
    "\n",
    "# xenon\n",
    "for im_no in xenon_data[\"qa_data\"]:\n",
    "    for qid, aid, aid_vqa in zip(\n",
    "        xenon_data[\"qa_data\"][im_no][\"questions\"],\n",
    "        xenon_data[\"qa_data\"][im_no][\"answers\"],\n",
    "        xenon_data[\"qa_data\"][im_no][\"answers_vqa\"]\n",
    "    ):\n",
    "        qid, aid, aid_vqa = str(qid), str(aid), str(aid_vqa)\n",
    "        data.append([\n",
    "            xenon_data[\"qid_2_question\"][qid],\n",
    "            xenon_data[\"aid_2_answer\"][aid],\n",
    "            xenon_data[\"aid_2_answer_vqa\"][aid_vqa],\n",
    "            im_no,\n",
    "            \"xenon\"\n",
    "        ])\n",
    "\n",
    "# sparky\n",
    "for im_no in sparky_data[\"qa_data\"]:\n",
    "    for qid, aid, aid_vqa in zip(\n",
    "        sparky_data[\"qa_data\"][im_no][\"questions\"],\n",
    "        sparky_data[\"qa_data\"][im_no][\"answers\"],\n",
    "        sparky_data[\"qa_data\"][im_no][\"answers_vqa\"]\n",
    "    ):\n",
    "        qid, aid, aid_vqa = str(qid), str(aid), str(aid_vqa)\n",
    "        data.append([\n",
    "            sparky_data[\"qid_2_question\"][qid],\n",
    "            sparky_data[\"aid_2_answer\"][aid],\n",
    "            sparky_data[\"aid_2_answer_vqa\"][aid_vqa],\n",
    "            im_no,\n",
    "            \"sparky\"\n",
    "        ])"
   ]
  },
  {
   "cell_type": "markdown",
   "metadata": {},
   "source": [
    "## Generate data mapping"
   ]
  },
  {
   "cell_type": "code",
   "execution_count": 8,
   "metadata": {},
   "outputs": [],
   "source": [
    "aid_2_answer, answer_2_aid = {}, {}\n",
    "aid_2_answer_vqa, answer_2_aid_vqa = {}, {}\n",
    "qid_2_question, question_2_qid = {}, {}"
   ]
  },
  {
   "cell_type": "code",
   "execution_count": 9,
   "metadata": {},
   "outputs": [],
   "source": [
    "for i in range(len(data)):\n",
    "    question, answer, answer_vqa, img_num, map_name = data[i]\n",
    "    \n",
    "    if question not in question_2_qid:\n",
    "        qid = len(question_2_qid)\n",
    "        question_2_qid[question] = qid\n",
    "        qid_2_question[qid] = question\n",
    "    else:\n",
    "        qid = question_2_qid[question]\n",
    "    \n",
    "    if answer not in answer_2_aid:\n",
    "        aid = len(answer_2_aid)\n",
    "        answer_2_aid[answer] = aid\n",
    "        aid_2_answer[aid] = answer\n",
    "    else:\n",
    "        aid = answer_2_aid[answer]\n",
    "\n",
    "    if answer_vqa not in answer_2_aid_vqa:\n",
    "        aid_vqa = len(answer_2_aid_vqa)\n",
    "        answer_2_aid_vqa[answer_vqa] = aid_vqa\n",
    "        aid_2_answer_vqa[aid_vqa] = answer_vqa\n",
    "    else:\n",
    "        aid_vqa = answer_2_aid_vqa[answer_vqa]\n",
    "        \n",
    "    data[i] = [\n",
    "        qid,\n",
    "        aid,\n",
    "        aid_vqa,\n",
    "        img_num,\n",
    "        map_name\n",
    "    ]"
   ]
  },
  {
   "cell_type": "code",
   "execution_count": 10,
   "metadata": {},
   "outputs": [],
   "source": [
    "vocab = {\"word_2_wid\": {}, \"wid_2_word\": {}}\n",
    "\n",
    "for answer in answer_2_aid:\n",
    "    for word in answer.split():\n",
    "        if word not in vocab[\"word_2_wid\"]:\n",
    "            wid = len(vocab[\"word_2_wid\"])\n",
    "            vocab[\"word_2_wid\"][word] = wid\n",
    "            vocab[\"wid_2_word\"][wid] = word\n",
    "# Add eos\n",
    "eos_id = len(vocab[\"word_2_wid\"])\n",
    "vocab[\"word_2_wid\"][\"<eos>\"] = eos_id \n",
    "vocab[\"wid_2_word\"][eos_id] = \"<eos>\"\n",
    "\n",
    "# Add bos\n",
    "bos_id = len(vocab[\"word_2_wid\"])\n",
    "vocab[\"word_2_wid\"][\"<bos>\"] = bos_id \n",
    "vocab[\"wid_2_word\"][bos_id] = \"<bos>\"\n",
    "\n",
    "# Add pad\n",
    "pad_id = len(vocab[\"word_2_wid\"])\n",
    "vocab[\"word_2_wid\"][\"<pad>\"] = pad_id \n",
    "vocab[\"wid_2_word\"][pad_id] = \"<pad>\""
   ]
  },
  {
   "cell_type": "code",
   "execution_count": 11,
   "metadata": {
    "scrolled": true
   },
   "outputs": [
    {
     "data": {
      "text/plain": [
       "{'word_2_wid': {'switch': 0,\n",
       "  'not': 1,\n",
       "  'seen': 2,\n",
       "  'no': 3,\n",
       "  'it': 4,\n",
       "  'is': 5,\n",
       "  'visible': 6,\n",
       "  'furniture': 7,\n",
       "  'can': 8,\n",
       "  'be': 9,\n",
       "  'identified': 10,\n",
       "  'in': 11,\n",
       "  'front': 12,\n",
       "  'torch': 13,\n",
       "  'door': 14,\n",
       "  'could': 15,\n",
       "  'locate': 16,\n",
       "  'a': 17,\n",
       "  'present': 18,\n",
       "  'identify': 19,\n",
       "  'victim': 20,\n",
       "  'see': 21,\n",
       "  'found': 22,\n",
       "  'yes': 23,\n",
       "  'yes,': 24,\n",
       "  'bookshelf': 25,\n",
       "  'close': 26,\n",
       "  'to': 27,\n",
       "  'fire': 28,\n",
       "  'did': 29,\n",
       "  'find': 30,\n",
       "  'next': 31,\n",
       "  'window': 32,\n",
       "  'located': 33,\n",
       "  'near': 34,\n",
       "  'by': 35,\n",
       "  '4': 36,\n",
       "  'the': 37,\n",
       "  'state': 38,\n",
       "  'open': 39,\n",
       "  '1': 40,\n",
       "  'was': 41,\n",
       "  'of': 42,\n",
       "  '2': 43,\n",
       "  '3': 44,\n",
       "  '5': 45,\n",
       "  '7': 46,\n",
       "  '6': 47,\n",
       "  '<eos>': 48,\n",
       "  '<bos>': 49,\n",
       "  '<pad>': 50},\n",
       " 'wid_2_word': {0: 'switch',\n",
       "  1: 'not',\n",
       "  2: 'seen',\n",
       "  3: 'no',\n",
       "  4: 'it',\n",
       "  5: 'is',\n",
       "  6: 'visible',\n",
       "  7: 'furniture',\n",
       "  8: 'can',\n",
       "  9: 'be',\n",
       "  10: 'identified',\n",
       "  11: 'in',\n",
       "  12: 'front',\n",
       "  13: 'torch',\n",
       "  14: 'door',\n",
       "  15: 'could',\n",
       "  16: 'locate',\n",
       "  17: 'a',\n",
       "  18: 'present',\n",
       "  19: 'identify',\n",
       "  20: 'victim',\n",
       "  21: 'see',\n",
       "  22: 'found',\n",
       "  23: 'yes',\n",
       "  24: 'yes,',\n",
       "  25: 'bookshelf',\n",
       "  26: 'close',\n",
       "  27: 'to',\n",
       "  28: 'fire',\n",
       "  29: 'did',\n",
       "  30: 'find',\n",
       "  31: 'next',\n",
       "  32: 'window',\n",
       "  33: 'located',\n",
       "  34: 'near',\n",
       "  35: 'by',\n",
       "  36: '4',\n",
       "  37: 'the',\n",
       "  38: 'state',\n",
       "  39: 'open',\n",
       "  40: '1',\n",
       "  41: 'was',\n",
       "  42: 'of',\n",
       "  43: '2',\n",
       "  44: '3',\n",
       "  45: '5',\n",
       "  46: '7',\n",
       "  47: '6',\n",
       "  48: '<eos>',\n",
       "  49: '<bos>',\n",
       "  50: '<pad>'}}"
      ]
     },
     "execution_count": 11,
     "metadata": {},
     "output_type": "execute_result"
    }
   ],
   "source": [
    "vocab"
   ]
  },
  {
   "cell_type": "markdown",
   "metadata": {},
   "source": [
    "## Save Mappings and Data"
   ]
  },
  {
   "cell_type": "code",
   "execution_count": 14,
   "metadata": {},
   "outputs": [],
   "source": [
    "mappings_path = \"../../qa_data/mappings.json\"\n",
    "processed_data_path = \"../../qa_data/processed_data.json\""
   ]
  },
  {
   "cell_type": "code",
   "execution_count": 15,
   "metadata": {},
   "outputs": [],
   "source": [
    "json.dump({\n",
    "    \"aid_2_answer\": aid_2_answer,\n",
    "    \"answer_2_aid\": answer_2_aid, \n",
    "    \"aid_2_answer_vqa\": aid_2_answer_vqa,\n",
    "    \"answer_2_aid_vqa\": answer_2_aid_vqa,\n",
    "    \"qid_2_question\": qid_2_question,\n",
    "    \"question_2_qid\": question_2_qid,\n",
    "    \"vocab\": vocab\n",
    "}, open(mappings_path, \"w\"), indent=4)"
   ]
  },
  {
   "cell_type": "code",
   "execution_count": 16,
   "metadata": {},
   "outputs": [],
   "source": [
    "json.dump({\n",
    "    \"data\": data\n",
    "}, open(processed_data_path, \"w\"), indent=2)"
   ]
  },
  {
   "cell_type": "markdown",
   "metadata": {},
   "source": [
    "## Test the Dataset class"
   ]
  },
  {
   "cell_type": "code",
   "execution_count": 17,
   "metadata": {},
   "outputs": [],
   "source": [
    "import sys\n",
    "from importlib import reload\n",
    "import json\n",
    "sys.path.append(\"..\")\n",
    "\n",
    "from sklearn.model_selection import train_test_split \n",
    "from scene_description import model, data_utils\n",
    "\n",
    "mappings_path = \"../../qa_data/mappings.json\"\n",
    "processed_data_path = \"../../qa_data/processed_data.json\""
   ]
  },
  {
   "cell_type": "code",
   "execution_count": 18,
   "metadata": {},
   "outputs": [],
   "source": [
    "mappings = json.load(open(mappings_path))\n",
    "qa_data = json.load(open(processed_data_path))[\"data\"]"
   ]
  },
  {
   "cell_type": "markdown",
   "metadata": {},
   "source": [
    "----------"
   ]
  },
  {
   "cell_type": "code",
   "execution_count": 21,
   "metadata": {},
   "outputs": [],
   "source": [
    "reload(data_utils)\n",
    "dataset = data_utils.SceneDescriptionDataset(qa_data, mappings, \"../../qa_data/\")"
   ]
  },
  {
   "cell_type": "code",
   "execution_count": 22,
   "metadata": {},
   "outputs": [],
   "source": [
    "(question, img), (answer, answer_vqa) = dataset.__getitem__(0)"
   ]
  },
  {
   "cell_type": "code",
   "execution_count": 23,
   "metadata": {},
   "outputs": [
    {
     "data": {
      "text/plain": [
       "('is there a switch in front?', [49, 0, 1, 2, 48], 0)"
      ]
     },
     "execution_count": 23,
     "metadata": {},
     "output_type": "execute_result"
    }
   ],
   "source": [
    "question, answer, answer_vqa"
   ]
  },
  {
   "cell_type": "code",
   "execution_count": 24,
   "metadata": {},
   "outputs": [
    {
     "data": {
      "text/plain": [
       "(tensor(0.), tensor(0.9333))"
      ]
     },
     "execution_count": 24,
     "metadata": {},
     "output_type": "execute_result"
    }
   ],
   "source": [
    "img.min(), img.max()"
   ]
  },
  {
   "cell_type": "markdown",
   "metadata": {},
   "source": [
    "## Test the dataloader class"
   ]
  },
  {
   "cell_type": "code",
   "execution_count": 25,
   "metadata": {},
   "outputs": [],
   "source": [
    "import torch"
   ]
  },
  {
   "cell_type": "code",
   "execution_count": 26,
   "metadata": {},
   "outputs": [],
   "source": [
    "dataloader = torch.utils.data.DataLoader(dataset, batch_size=4, shuffle=True, collate_fn=data_utils.collate_fn)"
   ]
  },
  {
   "cell_type": "code",
   "execution_count": 27,
   "metadata": {},
   "outputs": [
    {
     "name": "stdout",
     "output_type": "stream",
     "text": [
      "['how many torch are visible?', 'is a fire present near by a furniture?', 'number of door present?', 'how many switch are seen?']\n",
      "torch.Size([4, 3, 480, 640])\n",
      "tensor([[49,  8, 16,  3, 13, 48, 50, 50],\n",
      "        [49,  3, 28, 31, 27, 17,  7, 48],\n",
      "        [49,  3, 14, 11, 12, 48, 50, 50],\n",
      "        [49,  8, 21, 43,  0, 48, 50, 50]])\n",
      "tensor([2, 0, 2, 6])\n"
     ]
    }
   ],
   "source": [
    "for (question, img), (answer, answer_vqa) in dataloader:\n",
    "    print(question)\n",
    "    print(img.shape)\n",
    "    print(answer)\n",
    "    print(answer_vqa)\n",
    "    break"
   ]
  },
  {
   "cell_type": "markdown",
   "metadata": {},
   "source": [
    "## Test the model "
   ]
  },
  {
   "cell_type": "code",
   "execution_count": 28,
   "metadata": {},
   "outputs": [
    {
     "data": {
      "application/vnd.jupyter.widget-view+json": {
       "model_id": "542ad305e5174ba6b5e49d1f5dff3fff",
       "version_major": 2,
       "version_minor": 0
      },
      "text/plain": [
       "HBox(children=(HTML(value='Downloading'), FloatProgress(value=0.0, max=231508.0), HTML(value='')))"
      ]
     },
     "metadata": {},
     "output_type": "display_data"
    },
    {
     "name": "stdout",
     "output_type": "stream",
     "text": [
      "\n"
     ]
    },
    {
     "data": {
      "application/vnd.jupyter.widget-view+json": {
       "model_id": "f046cb0411704fd1a8f6a1e9f5d43040",
       "version_major": 2,
       "version_minor": 0
      },
      "text/plain": [
       "HBox(children=(HTML(value='Downloading'), FloatProgress(value=0.0, max=466062.0), HTML(value='')))"
      ]
     },
     "metadata": {},
     "output_type": "display_data"
    },
    {
     "name": "stdout",
     "output_type": "stream",
     "text": [
      "\n"
     ]
    },
    {
     "data": {
      "application/vnd.jupyter.widget-view+json": {
       "model_id": "a6072fc673db4049a4c84a69d36355ef",
       "version_major": 2,
       "version_minor": 0
      },
      "text/plain": [
       "HBox(children=(HTML(value='Downloading'), FloatProgress(value=0.0, max=28.0), HTML(value='')))"
      ]
     },
     "metadata": {},
     "output_type": "display_data"
    },
    {
     "name": "stdout",
     "output_type": "stream",
     "text": [
      "\n"
     ]
    },
    {
     "data": {
      "application/vnd.jupyter.widget-view+json": {
       "model_id": "c8f2b209a05b4597924aa1456c763256",
       "version_major": 2,
       "version_minor": 0
      },
      "text/plain": [
       "HBox(children=(HTML(value='Downloading'), FloatProgress(value=0.0, max=433.0), HTML(value='')))"
      ]
     },
     "metadata": {},
     "output_type": "display_data"
    },
    {
     "name": "stdout",
     "output_type": "stream",
     "text": [
      "\n"
     ]
    },
    {
     "data": {
      "application/vnd.jupyter.widget-view+json": {
       "model_id": "169d558e03584049a09e1044793071e7",
       "version_major": 2,
       "version_minor": 0
      },
      "text/plain": [
       "HBox(children=(HTML(value='Downloading'), FloatProgress(value=0.0, max=440473133.0), HTML(value='')))"
      ]
     },
     "metadata": {},
     "output_type": "display_data"
    },
    {
     "name": "stdout",
     "output_type": "stream",
     "text": [
      "\n"
     ]
    },
    {
     "name": "stderr",
     "output_type": "stream",
     "text": [
      "Downloading: \"https://download.pytorch.org/models/resnet18-5c106cde.pth\" to /home/aviralj/.cache/torch/hub/checkpoints/resnet18-5c106cde.pth\n"
     ]
    },
    {
     "data": {
      "application/vnd.jupyter.widget-view+json": {
       "model_id": "d4dbfc5a679b40a1ad77671f2f6782ef",
       "version_major": 2,
       "version_minor": 0
      },
      "text/plain": [
       "HBox(children=(HTML(value=''), FloatProgress(value=0.0, max=46827520.0), HTML(value='')))"
      ]
     },
     "metadata": {},
     "output_type": "display_data"
    },
    {
     "name": "stdout",
     "output_type": "stream",
     "text": [
      "\n"
     ]
    }
   ],
   "source": [
    "reload(model)\n",
    "sd = model.SceneDescription(num_answers=len(mappings[\"aid_2_answer_vqa\"]), vocab_size=len(mappings[\"vocab\"][\"wid_2_word\"]))"
   ]
  },
  {
   "cell_type": "code",
   "execution_count": 29,
   "metadata": {},
   "outputs": [
    {
     "data": {
      "text/plain": [
       "SceneDescription(\n",
       "  (language_understanding): LanguageInput(\n",
       "    (bertmodel): BertModel(\n",
       "      (embeddings): BertEmbeddings(\n",
       "        (word_embeddings): Embedding(30522, 768, padding_idx=0)\n",
       "        (position_embeddings): Embedding(512, 768)\n",
       "        (token_type_embeddings): Embedding(2, 768)\n",
       "        (LayerNorm): LayerNorm((768,), eps=1e-12, elementwise_affine=True)\n",
       "        (dropout): Dropout(p=0.1, inplace=False)\n",
       "      )\n",
       "      (encoder): BertEncoder(\n",
       "        (layer): ModuleList(\n",
       "          (0): BertLayer(\n",
       "            (attention): BertAttention(\n",
       "              (self): BertSelfAttention(\n",
       "                (query): Linear(in_features=768, out_features=768, bias=True)\n",
       "                (key): Linear(in_features=768, out_features=768, bias=True)\n",
       "                (value): Linear(in_features=768, out_features=768, bias=True)\n",
       "                (dropout): Dropout(p=0.1, inplace=False)\n",
       "              )\n",
       "              (output): BertSelfOutput(\n",
       "                (dense): Linear(in_features=768, out_features=768, bias=True)\n",
       "                (LayerNorm): LayerNorm((768,), eps=1e-12, elementwise_affine=True)\n",
       "                (dropout): Dropout(p=0.1, inplace=False)\n",
       "              )\n",
       "            )\n",
       "            (intermediate): BertIntermediate(\n",
       "              (dense): Linear(in_features=768, out_features=3072, bias=True)\n",
       "            )\n",
       "            (output): BertOutput(\n",
       "              (dense): Linear(in_features=3072, out_features=768, bias=True)\n",
       "              (LayerNorm): LayerNorm((768,), eps=1e-12, elementwise_affine=True)\n",
       "              (dropout): Dropout(p=0.1, inplace=False)\n",
       "            )\n",
       "          )\n",
       "          (1): BertLayer(\n",
       "            (attention): BertAttention(\n",
       "              (self): BertSelfAttention(\n",
       "                (query): Linear(in_features=768, out_features=768, bias=True)\n",
       "                (key): Linear(in_features=768, out_features=768, bias=True)\n",
       "                (value): Linear(in_features=768, out_features=768, bias=True)\n",
       "                (dropout): Dropout(p=0.1, inplace=False)\n",
       "              )\n",
       "              (output): BertSelfOutput(\n",
       "                (dense): Linear(in_features=768, out_features=768, bias=True)\n",
       "                (LayerNorm): LayerNorm((768,), eps=1e-12, elementwise_affine=True)\n",
       "                (dropout): Dropout(p=0.1, inplace=False)\n",
       "              )\n",
       "            )\n",
       "            (intermediate): BertIntermediate(\n",
       "              (dense): Linear(in_features=768, out_features=3072, bias=True)\n",
       "            )\n",
       "            (output): BertOutput(\n",
       "              (dense): Linear(in_features=3072, out_features=768, bias=True)\n",
       "              (LayerNorm): LayerNorm((768,), eps=1e-12, elementwise_affine=True)\n",
       "              (dropout): Dropout(p=0.1, inplace=False)\n",
       "            )\n",
       "          )\n",
       "          (2): BertLayer(\n",
       "            (attention): BertAttention(\n",
       "              (self): BertSelfAttention(\n",
       "                (query): Linear(in_features=768, out_features=768, bias=True)\n",
       "                (key): Linear(in_features=768, out_features=768, bias=True)\n",
       "                (value): Linear(in_features=768, out_features=768, bias=True)\n",
       "                (dropout): Dropout(p=0.1, inplace=False)\n",
       "              )\n",
       "              (output): BertSelfOutput(\n",
       "                (dense): Linear(in_features=768, out_features=768, bias=True)\n",
       "                (LayerNorm): LayerNorm((768,), eps=1e-12, elementwise_affine=True)\n",
       "                (dropout): Dropout(p=0.1, inplace=False)\n",
       "              )\n",
       "            )\n",
       "            (intermediate): BertIntermediate(\n",
       "              (dense): Linear(in_features=768, out_features=3072, bias=True)\n",
       "            )\n",
       "            (output): BertOutput(\n",
       "              (dense): Linear(in_features=3072, out_features=768, bias=True)\n",
       "              (LayerNorm): LayerNorm((768,), eps=1e-12, elementwise_affine=True)\n",
       "              (dropout): Dropout(p=0.1, inplace=False)\n",
       "            )\n",
       "          )\n",
       "          (3): BertLayer(\n",
       "            (attention): BertAttention(\n",
       "              (self): BertSelfAttention(\n",
       "                (query): Linear(in_features=768, out_features=768, bias=True)\n",
       "                (key): Linear(in_features=768, out_features=768, bias=True)\n",
       "                (value): Linear(in_features=768, out_features=768, bias=True)\n",
       "                (dropout): Dropout(p=0.1, inplace=False)\n",
       "              )\n",
       "              (output): BertSelfOutput(\n",
       "                (dense): Linear(in_features=768, out_features=768, bias=True)\n",
       "                (LayerNorm): LayerNorm((768,), eps=1e-12, elementwise_affine=True)\n",
       "                (dropout): Dropout(p=0.1, inplace=False)\n",
       "              )\n",
       "            )\n",
       "            (intermediate): BertIntermediate(\n",
       "              (dense): Linear(in_features=768, out_features=3072, bias=True)\n",
       "            )\n",
       "            (output): BertOutput(\n",
       "              (dense): Linear(in_features=3072, out_features=768, bias=True)\n",
       "              (LayerNorm): LayerNorm((768,), eps=1e-12, elementwise_affine=True)\n",
       "              (dropout): Dropout(p=0.1, inplace=False)\n",
       "            )\n",
       "          )\n",
       "          (4): BertLayer(\n",
       "            (attention): BertAttention(\n",
       "              (self): BertSelfAttention(\n",
       "                (query): Linear(in_features=768, out_features=768, bias=True)\n",
       "                (key): Linear(in_features=768, out_features=768, bias=True)\n",
       "                (value): Linear(in_features=768, out_features=768, bias=True)\n",
       "                (dropout): Dropout(p=0.1, inplace=False)\n",
       "              )\n",
       "              (output): BertSelfOutput(\n",
       "                (dense): Linear(in_features=768, out_features=768, bias=True)\n",
       "                (LayerNorm): LayerNorm((768,), eps=1e-12, elementwise_affine=True)\n",
       "                (dropout): Dropout(p=0.1, inplace=False)\n",
       "              )\n",
       "            )\n",
       "            (intermediate): BertIntermediate(\n",
       "              (dense): Linear(in_features=768, out_features=3072, bias=True)\n",
       "            )\n",
       "            (output): BertOutput(\n",
       "              (dense): Linear(in_features=3072, out_features=768, bias=True)\n",
       "              (LayerNorm): LayerNorm((768,), eps=1e-12, elementwise_affine=True)\n",
       "              (dropout): Dropout(p=0.1, inplace=False)\n",
       "            )\n",
       "          )\n",
       "          (5): BertLayer(\n",
       "            (attention): BertAttention(\n",
       "              (self): BertSelfAttention(\n",
       "                (query): Linear(in_features=768, out_features=768, bias=True)\n",
       "                (key): Linear(in_features=768, out_features=768, bias=True)\n",
       "                (value): Linear(in_features=768, out_features=768, bias=True)\n",
       "                (dropout): Dropout(p=0.1, inplace=False)\n",
       "              )\n",
       "              (output): BertSelfOutput(\n",
       "                (dense): Linear(in_features=768, out_features=768, bias=True)\n",
       "                (LayerNorm): LayerNorm((768,), eps=1e-12, elementwise_affine=True)\n",
       "                (dropout): Dropout(p=0.1, inplace=False)\n",
       "              )\n",
       "            )\n",
       "            (intermediate): BertIntermediate(\n",
       "              (dense): Linear(in_features=768, out_features=3072, bias=True)\n",
       "            )\n",
       "            (output): BertOutput(\n",
       "              (dense): Linear(in_features=3072, out_features=768, bias=True)\n",
       "              (LayerNorm): LayerNorm((768,), eps=1e-12, elementwise_affine=True)\n",
       "              (dropout): Dropout(p=0.1, inplace=False)\n",
       "            )\n",
       "          )\n",
       "          (6): BertLayer(\n",
       "            (attention): BertAttention(\n",
       "              (self): BertSelfAttention(\n",
       "                (query): Linear(in_features=768, out_features=768, bias=True)\n",
       "                (key): Linear(in_features=768, out_features=768, bias=True)\n",
       "                (value): Linear(in_features=768, out_features=768, bias=True)\n",
       "                (dropout): Dropout(p=0.1, inplace=False)\n",
       "              )\n",
       "              (output): BertSelfOutput(\n",
       "                (dense): Linear(in_features=768, out_features=768, bias=True)\n",
       "                (LayerNorm): LayerNorm((768,), eps=1e-12, elementwise_affine=True)\n",
       "                (dropout): Dropout(p=0.1, inplace=False)\n",
       "              )\n",
       "            )\n",
       "            (intermediate): BertIntermediate(\n",
       "              (dense): Linear(in_features=768, out_features=3072, bias=True)\n",
       "            )\n",
       "            (output): BertOutput(\n",
       "              (dense): Linear(in_features=3072, out_features=768, bias=True)\n",
       "              (LayerNorm): LayerNorm((768,), eps=1e-12, elementwise_affine=True)\n",
       "              (dropout): Dropout(p=0.1, inplace=False)\n",
       "            )\n",
       "          )\n",
       "          (7): BertLayer(\n",
       "            (attention): BertAttention(\n",
       "              (self): BertSelfAttention(\n",
       "                (query): Linear(in_features=768, out_features=768, bias=True)\n",
       "                (key): Linear(in_features=768, out_features=768, bias=True)\n",
       "                (value): Linear(in_features=768, out_features=768, bias=True)\n",
       "                (dropout): Dropout(p=0.1, inplace=False)\n",
       "              )\n",
       "              (output): BertSelfOutput(\n",
       "                (dense): Linear(in_features=768, out_features=768, bias=True)\n",
       "                (LayerNorm): LayerNorm((768,), eps=1e-12, elementwise_affine=True)\n",
       "                (dropout): Dropout(p=0.1, inplace=False)\n",
       "              )\n",
       "            )\n",
       "            (intermediate): BertIntermediate(\n",
       "              (dense): Linear(in_features=768, out_features=3072, bias=True)\n",
       "            )\n",
       "            (output): BertOutput(\n",
       "              (dense): Linear(in_features=3072, out_features=768, bias=True)\n",
       "              (LayerNorm): LayerNorm((768,), eps=1e-12, elementwise_affine=True)\n",
       "              (dropout): Dropout(p=0.1, inplace=False)\n",
       "            )\n",
       "          )\n",
       "          (8): BertLayer(\n",
       "            (attention): BertAttention(\n",
       "              (self): BertSelfAttention(\n",
       "                (query): Linear(in_features=768, out_features=768, bias=True)\n",
       "                (key): Linear(in_features=768, out_features=768, bias=True)\n",
       "                (value): Linear(in_features=768, out_features=768, bias=True)\n",
       "                (dropout): Dropout(p=0.1, inplace=False)\n",
       "              )\n",
       "              (output): BertSelfOutput(\n",
       "                (dense): Linear(in_features=768, out_features=768, bias=True)\n",
       "                (LayerNorm): LayerNorm((768,), eps=1e-12, elementwise_affine=True)\n",
       "                (dropout): Dropout(p=0.1, inplace=False)\n",
       "              )\n",
       "            )\n",
       "            (intermediate): BertIntermediate(\n",
       "              (dense): Linear(in_features=768, out_features=3072, bias=True)\n",
       "            )\n",
       "            (output): BertOutput(\n",
       "              (dense): Linear(in_features=3072, out_features=768, bias=True)\n",
       "              (LayerNorm): LayerNorm((768,), eps=1e-12, elementwise_affine=True)\n",
       "              (dropout): Dropout(p=0.1, inplace=False)\n",
       "            )\n",
       "          )\n",
       "          (9): BertLayer(\n",
       "            (attention): BertAttention(\n",
       "              (self): BertSelfAttention(\n",
       "                (query): Linear(in_features=768, out_features=768, bias=True)\n",
       "                (key): Linear(in_features=768, out_features=768, bias=True)\n",
       "                (value): Linear(in_features=768, out_features=768, bias=True)\n",
       "                (dropout): Dropout(p=0.1, inplace=False)\n",
       "              )\n",
       "              (output): BertSelfOutput(\n",
       "                (dense): Linear(in_features=768, out_features=768, bias=True)\n",
       "                (LayerNorm): LayerNorm((768,), eps=1e-12, elementwise_affine=True)\n",
       "                (dropout): Dropout(p=0.1, inplace=False)\n",
       "              )\n",
       "            )\n",
       "            (intermediate): BertIntermediate(\n",
       "              (dense): Linear(in_features=768, out_features=3072, bias=True)\n",
       "            )\n",
       "            (output): BertOutput(\n",
       "              (dense): Linear(in_features=3072, out_features=768, bias=True)\n",
       "              (LayerNorm): LayerNorm((768,), eps=1e-12, elementwise_affine=True)\n",
       "              (dropout): Dropout(p=0.1, inplace=False)\n",
       "            )\n",
       "          )\n",
       "          (10): BertLayer(\n",
       "            (attention): BertAttention(\n",
       "              (self): BertSelfAttention(\n",
       "                (query): Linear(in_features=768, out_features=768, bias=True)\n",
       "                (key): Linear(in_features=768, out_features=768, bias=True)\n",
       "                (value): Linear(in_features=768, out_features=768, bias=True)\n",
       "                (dropout): Dropout(p=0.1, inplace=False)\n",
       "              )\n",
       "              (output): BertSelfOutput(\n",
       "                (dense): Linear(in_features=768, out_features=768, bias=True)\n",
       "                (LayerNorm): LayerNorm((768,), eps=1e-12, elementwise_affine=True)\n",
       "                (dropout): Dropout(p=0.1, inplace=False)\n",
       "              )\n",
       "            )\n",
       "            (intermediate): BertIntermediate(\n",
       "              (dense): Linear(in_features=768, out_features=3072, bias=True)\n",
       "            )\n",
       "            (output): BertOutput(\n",
       "              (dense): Linear(in_features=3072, out_features=768, bias=True)\n",
       "              (LayerNorm): LayerNorm((768,), eps=1e-12, elementwise_affine=True)\n",
       "              (dropout): Dropout(p=0.1, inplace=False)\n",
       "            )\n",
       "          )\n",
       "          (11): BertLayer(\n",
       "            (attention): BertAttention(\n",
       "              (self): BertSelfAttention(\n",
       "                (query): Linear(in_features=768, out_features=768, bias=True)\n",
       "                (key): Linear(in_features=768, out_features=768, bias=True)\n",
       "                (value): Linear(in_features=768, out_features=768, bias=True)\n",
       "                (dropout): Dropout(p=0.1, inplace=False)\n",
       "              )\n",
       "              (output): BertSelfOutput(\n",
       "                (dense): Linear(in_features=768, out_features=768, bias=True)\n",
       "                (LayerNorm): LayerNorm((768,), eps=1e-12, elementwise_affine=True)\n",
       "                (dropout): Dropout(p=0.1, inplace=False)\n",
       "              )\n",
       "            )\n",
       "            (intermediate): BertIntermediate(\n",
       "              (dense): Linear(in_features=768, out_features=3072, bias=True)\n",
       "            )\n",
       "            (output): BertOutput(\n",
       "              (dense): Linear(in_features=3072, out_features=768, bias=True)\n",
       "              (LayerNorm): LayerNorm((768,), eps=1e-12, elementwise_affine=True)\n",
       "              (dropout): Dropout(p=0.1, inplace=False)\n",
       "            )\n",
       "          )\n",
       "        )\n",
       "      )\n",
       "      (pooler): BertPooler(\n",
       "        (dense): Linear(in_features=768, out_features=768, bias=True)\n",
       "        (activation): Tanh()\n",
       "      )\n",
       "    )\n",
       "  )\n",
       "  (vision_understanding): VisionInput(\n",
       "    (resnetmodel): Sequential(\n",
       "      (0): Conv2d(3, 64, kernel_size=(7, 7), stride=(2, 2), padding=(3, 3), bias=False)\n",
       "      (1): BatchNorm2d(64, eps=1e-05, momentum=0.1, affine=True, track_running_stats=True)\n",
       "      (2): ReLU(inplace=True)\n",
       "      (3): MaxPool2d(kernel_size=3, stride=2, padding=1, dilation=1, ceil_mode=False)\n",
       "      (4): Sequential(\n",
       "        (0): BasicBlock(\n",
       "          (conv1): Conv2d(64, 64, kernel_size=(3, 3), stride=(1, 1), padding=(1, 1), bias=False)\n",
       "          (bn1): BatchNorm2d(64, eps=1e-05, momentum=0.1, affine=True, track_running_stats=True)\n",
       "          (relu): ReLU(inplace=True)\n",
       "          (conv2): Conv2d(64, 64, kernel_size=(3, 3), stride=(1, 1), padding=(1, 1), bias=False)\n",
       "          (bn2): BatchNorm2d(64, eps=1e-05, momentum=0.1, affine=True, track_running_stats=True)\n",
       "        )\n",
       "        (1): BasicBlock(\n",
       "          (conv1): Conv2d(64, 64, kernel_size=(3, 3), stride=(1, 1), padding=(1, 1), bias=False)\n",
       "          (bn1): BatchNorm2d(64, eps=1e-05, momentum=0.1, affine=True, track_running_stats=True)\n",
       "          (relu): ReLU(inplace=True)\n",
       "          (conv2): Conv2d(64, 64, kernel_size=(3, 3), stride=(1, 1), padding=(1, 1), bias=False)\n",
       "          (bn2): BatchNorm2d(64, eps=1e-05, momentum=0.1, affine=True, track_running_stats=True)\n",
       "        )\n",
       "      )\n",
       "      (5): Sequential(\n",
       "        (0): BasicBlock(\n",
       "          (conv1): Conv2d(64, 128, kernel_size=(3, 3), stride=(2, 2), padding=(1, 1), bias=False)\n",
       "          (bn1): BatchNorm2d(128, eps=1e-05, momentum=0.1, affine=True, track_running_stats=True)\n",
       "          (relu): ReLU(inplace=True)\n",
       "          (conv2): Conv2d(128, 128, kernel_size=(3, 3), stride=(1, 1), padding=(1, 1), bias=False)\n",
       "          (bn2): BatchNorm2d(128, eps=1e-05, momentum=0.1, affine=True, track_running_stats=True)\n",
       "          (downsample): Sequential(\n",
       "            (0): Conv2d(64, 128, kernel_size=(1, 1), stride=(2, 2), bias=False)\n",
       "            (1): BatchNorm2d(128, eps=1e-05, momentum=0.1, affine=True, track_running_stats=True)\n",
       "          )\n",
       "        )\n",
       "        (1): BasicBlock(\n",
       "          (conv1): Conv2d(128, 128, kernel_size=(3, 3), stride=(1, 1), padding=(1, 1), bias=False)\n",
       "          (bn1): BatchNorm2d(128, eps=1e-05, momentum=0.1, affine=True, track_running_stats=True)\n",
       "          (relu): ReLU(inplace=True)\n",
       "          (conv2): Conv2d(128, 128, kernel_size=(3, 3), stride=(1, 1), padding=(1, 1), bias=False)\n",
       "          (bn2): BatchNorm2d(128, eps=1e-05, momentum=0.1, affine=True, track_running_stats=True)\n",
       "        )\n",
       "      )\n",
       "      (6): Sequential(\n",
       "        (0): BasicBlock(\n",
       "          (conv1): Conv2d(128, 256, kernel_size=(3, 3), stride=(2, 2), padding=(1, 1), bias=False)\n",
       "          (bn1): BatchNorm2d(256, eps=1e-05, momentum=0.1, affine=True, track_running_stats=True)\n",
       "          (relu): ReLU(inplace=True)\n",
       "          (conv2): Conv2d(256, 256, kernel_size=(3, 3), stride=(1, 1), padding=(1, 1), bias=False)\n",
       "          (bn2): BatchNorm2d(256, eps=1e-05, momentum=0.1, affine=True, track_running_stats=True)\n",
       "          (downsample): Sequential(\n",
       "            (0): Conv2d(128, 256, kernel_size=(1, 1), stride=(2, 2), bias=False)\n",
       "            (1): BatchNorm2d(256, eps=1e-05, momentum=0.1, affine=True, track_running_stats=True)\n",
       "          )\n",
       "        )\n",
       "        (1): BasicBlock(\n",
       "          (conv1): Conv2d(256, 256, kernel_size=(3, 3), stride=(1, 1), padding=(1, 1), bias=False)\n",
       "          (bn1): BatchNorm2d(256, eps=1e-05, momentum=0.1, affine=True, track_running_stats=True)\n",
       "          (relu): ReLU(inplace=True)\n",
       "          (conv2): Conv2d(256, 256, kernel_size=(3, 3), stride=(1, 1), padding=(1, 1), bias=False)\n",
       "          (bn2): BatchNorm2d(256, eps=1e-05, momentum=0.1, affine=True, track_running_stats=True)\n",
       "        )\n",
       "      )\n",
       "      (7): Sequential(\n",
       "        (0): BasicBlock(\n",
       "          (conv1): Conv2d(256, 512, kernel_size=(3, 3), stride=(2, 2), padding=(1, 1), bias=False)\n",
       "          (bn1): BatchNorm2d(512, eps=1e-05, momentum=0.1, affine=True, track_running_stats=True)\n",
       "          (relu): ReLU(inplace=True)\n",
       "          (conv2): Conv2d(512, 512, kernel_size=(3, 3), stride=(1, 1), padding=(1, 1), bias=False)\n",
       "          (bn2): BatchNorm2d(512, eps=1e-05, momentum=0.1, affine=True, track_running_stats=True)\n",
       "          (downsample): Sequential(\n",
       "            (0): Conv2d(256, 512, kernel_size=(1, 1), stride=(2, 2), bias=False)\n",
       "            (1): BatchNorm2d(512, eps=1e-05, momentum=0.1, affine=True, track_running_stats=True)\n",
       "          )\n",
       "        )\n",
       "        (1): BasicBlock(\n",
       "          (conv1): Conv2d(512, 512, kernel_size=(3, 3), stride=(1, 1), padding=(1, 1), bias=False)\n",
       "          (bn1): BatchNorm2d(512, eps=1e-05, momentum=0.1, affine=True, track_running_stats=True)\n",
       "          (relu): ReLU(inplace=True)\n",
       "          (conv2): Conv2d(512, 512, kernel_size=(3, 3), stride=(1, 1), padding=(1, 1), bias=False)\n",
       "          (bn2): BatchNorm2d(512, eps=1e-05, momentum=0.1, affine=True, track_running_stats=True)\n",
       "        )\n",
       "      )\n",
       "      (8): AdaptiveAvgPool2d(output_size=(1, 1))\n",
       "    )\n",
       "  )\n",
       "  (classification): Classification(\n",
       "    (tanh): Tanh()\n",
       "    (linear1): Linear(in_features=1280, out_features=512, bias=True)\n",
       "    (linear2): Linear(in_features=512, out_features=11, bias=True)\n",
       "  )\n",
       "  (language_generation): LanguageGeneration(\n",
       "    (embedding): Embedding(51, 128)\n",
       "    (lstm1): LSTM(128, 512, batch_first=True)\n",
       "    (lstm2): LSTM(512, 512, batch_first=True)\n",
       "    (projection): Linear(in_features=512, out_features=51, bias=True)\n",
       "  )\n",
       ")"
      ]
     },
     "execution_count": 29,
     "metadata": {},
     "output_type": "execute_result"
    }
   ],
   "source": [
    "sd"
   ]
  },
  {
   "cell_type": "code",
   "execution_count": 30,
   "metadata": {},
   "outputs": [],
   "source": [
    "op = sd(question, img, answer)"
   ]
  },
  {
   "cell_type": "code",
   "execution_count": 31,
   "metadata": {},
   "outputs": [
    {
     "data": {
      "text/plain": [
       "torch.Size([4, 11])"
      ]
     },
     "execution_count": 31,
     "metadata": {},
     "output_type": "execute_result"
    }
   ],
   "source": [
    "op[0].shape"
   ]
  },
  {
   "cell_type": "code",
   "execution_count": 32,
   "metadata": {},
   "outputs": [
    {
     "data": {
      "text/plain": [
       "torch.Size([4, 8, 51])"
      ]
     },
     "execution_count": 32,
     "metadata": {},
     "output_type": "execute_result"
    }
   ],
   "source": [
    "op[1].shape"
   ]
  }
 ],
 "metadata": {
  "kernelspec": {
   "display_name": "Python 3",
   "language": "python",
   "name": "python3"
  },
  "language_info": {
   "codemirror_mode": {
    "name": "ipython",
    "version": 3
   },
   "file_extension": ".py",
   "mimetype": "text/x-python",
   "name": "python",
   "nbconvert_exporter": "python",
   "pygments_lexer": "ipython3",
   "version": "3.8.5"
  }
 },
 "nbformat": 4,
 "nbformat_minor": 4
}
